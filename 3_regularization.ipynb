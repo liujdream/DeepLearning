{
 "cells": [
  {
   "cell_type": "markdown",
   "metadata": {
    "colab_type": "text",
    "id": "kR-4eNdK6lYS"
   },
   "source": [
    "Deep Learning\n",
    "=============\n",
    "\n",
    "Assignment 3\n",
    "------------\n",
    "\n",
    "Previously in `2_fullyconnected.ipynb`, you trained a logistic regression and a neural network model.\n",
    "\n",
    "The goal of this assignment is to explore regularization techniques."
   ]
  },
  {
   "cell_type": "code",
   "execution_count": 1,
   "metadata": {
    "cellView": "both",
    "colab": {
     "autoexec": {
      "startup": false,
      "wait_interval": 0
     }
    },
    "colab_type": "code",
    "collapsed": false,
    "id": "JLpLa8Jt7Vu4"
   },
   "outputs": [
    {
     "name": "stdout",
     "output_type": "stream",
     "text": [
      "Tue Jul  5 22:38:10 2016\n"
     ]
    }
   ],
   "source": [
    "# These are all the modules we'll be using later. Make sure you can import them\n",
    "# before proceeding further.\n",
    "from __future__ import print_function\n",
    "import numpy as np\n",
    "import tensorflow as tf\n",
    "from six.moves import cPickle as pickle\n",
    "import time\n",
    "localtime = time.asctime( time.localtime(time.time()) )\n",
    "print (localtime)"
   ]
  },
  {
   "cell_type": "markdown",
   "metadata": {
    "colab_type": "text",
    "id": "1HrCK6e17WzV"
   },
   "source": [
    "First reload the data we generated in _notmist.ipynb_."
   ]
  },
  {
   "cell_type": "code",
   "execution_count": 2,
   "metadata": {
    "cellView": "both",
    "colab": {
     "autoexec": {
      "startup": false,
      "wait_interval": 0
     },
     "output_extras": [
      {
       "item_id": 1
      }
     ]
    },
    "colab_type": "code",
    "collapsed": false,
    "executionInfo": {
     "elapsed": 11777,
     "status": "ok",
     "timestamp": 1449849322348,
     "user": {
      "color": "",
      "displayName": "",
      "isAnonymous": false,
      "isMe": true,
      "permissionId": "",
      "photoUrl": "",
      "sessionId": "0",
      "userId": ""
     },
     "user_tz": 480
    },
    "id": "y3-cj1bpmuxc",
    "outputId": "e03576f1-ebbe-4838-c388-f1777bcc9873"
   },
   "outputs": [
    {
     "name": "stdout",
     "output_type": "stream",
     "text": [
      "Training set (20000, 28, 28) (20000,)\n",
      "Validation set (10000, 28, 28) (10000,)\n",
      "Test set (10000, 28, 28) (10000,)\n"
     ]
    }
   ],
   "source": [
    "pickle_file = 'notMNIST.pickle'\n",
    "\n",
    "with open(pickle_file, 'rb') as f:\n",
    "  save = pickle.load(f)\n",
    "  train_dataset = save['train_dataset']\n",
    "  train_labels = save['train_labels']\n",
    "  valid_dataset = save['valid_dataset']\n",
    "  valid_labels = save['valid_labels']\n",
    "  test_dataset = save['test_dataset']\n",
    "  test_labels = save['test_labels']\n",
    "  del save  # hint to help gc free up memory\n",
    "  print('Training set', train_dataset.shape, train_labels.shape)\n",
    "  print('Validation set', valid_dataset.shape, valid_labels.shape)\n",
    "  print('Test set', test_dataset.shape, test_labels.shape)"
   ]
  },
  {
   "cell_type": "markdown",
   "metadata": {
    "colab_type": "text",
    "id": "L7aHrm6nGDMB"
   },
   "source": [
    "Reformat into a shape that's more adapted to the models we're going to train:\n",
    "- data as a flat matrix,\n",
    "- labels as float 1-hot encodings."
   ]
  },
  {
   "cell_type": "code",
   "execution_count": 3,
   "metadata": {
    "cellView": "both",
    "colab": {
     "autoexec": {
      "startup": false,
      "wait_interval": 0
     },
     "output_extras": [
      {
       "item_id": 1
      }
     ]
    },
    "colab_type": "code",
    "collapsed": false,
    "executionInfo": {
     "elapsed": 11728,
     "status": "ok",
     "timestamp": 1449849322356,
     "user": {
      "color": "",
      "displayName": "",
      "isAnonymous": false,
      "isMe": true,
      "permissionId": "",
      "photoUrl": "",
      "sessionId": "0",
      "userId": ""
     },
     "user_tz": 480
    },
    "id": "IRSyYiIIGIzS",
    "outputId": "3f8996ee-3574-4f44-c953-5c8a04636582"
   },
   "outputs": [
    {
     "name": "stdout",
     "output_type": "stream",
     "text": [
      "Training set (20000, 784) (20000, 10)\n",
      "Validation set (10000, 784) (10000, 10)\n",
      "Test set (10000, 784) (10000, 10)\n"
     ]
    }
   ],
   "source": [
    "image_size = 28\n",
    "num_labels = 10\n",
    "\n",
    "def reformat(dataset, labels):\n",
    "  dataset = dataset.reshape((-1, image_size * image_size)).astype(np.float32)\n",
    "  # Map 2 to [0.0, 1.0, 0.0 ...], 3 to [0.0, 0.0, 1.0 ...]\n",
    "  labels = (np.arange(num_labels) == labels[:,None]).astype(np.float32)\n",
    "  return dataset, labels\n",
    "train_dataset, train_labels = reformat(train_dataset, train_labels)\n",
    "valid_dataset, valid_labels = reformat(valid_dataset, valid_labels)\n",
    "test_dataset, test_labels = reformat(test_dataset, test_labels)\n",
    "print('Training set', train_dataset.shape, train_labels.shape)\n",
    "print('Validation set', valid_dataset.shape, valid_labels.shape)\n",
    "print('Test set', test_dataset.shape, test_labels.shape)"
   ]
  },
  {
   "cell_type": "code",
   "execution_count": 4,
   "metadata": {
    "cellView": "both",
    "colab": {
     "autoexec": {
      "startup": false,
      "wait_interval": 0
     }
    },
    "colab_type": "code",
    "collapsed": true,
    "id": "RajPLaL_ZW6w"
   },
   "outputs": [],
   "source": [
    "def accuracy(predictions, labels):\n",
    "  return (100.0 * np.sum(np.argmax(predictions, 1) == np.argmax(labels, 1))\n",
    "          / predictions.shape[0])"
   ]
  },
  {
   "cell_type": "markdown",
   "metadata": {
    "colab_type": "text",
    "id": "sgLbUAQ1CW-1"
   },
   "source": [
    "---\n",
    "Problem 1\n",
    "---------\n",
    "\n",
    "Introduce and tune L2 regularization for both logistic and neural network models. Remember that L2 amounts to adding a penalty on the norm of the weights to the loss. In TensorFlow, you can compute the L2 loss for a tensor `t` using `nn.l2_loss(t)`. The right amount of regularization should improve your validation / test accuracy.\n",
    "\n",
    "---"
   ]
  },
  {
   "cell_type": "markdown",
   "metadata": {},
   "source": [
    "## Logistic Regression"
   ]
  },
  {
   "cell_type": "code",
   "execution_count": null,
   "metadata": {
    "collapsed": true
   },
   "outputs": [],
   "source": [
    "# With gradient descent training, even this much data is prohibitive.\n",
    "# Subset the training data for faster turnaround.\n",
    "train_subset = 10000\n",
    "\n",
    "graph = tf.Graph()\n",
    "with graph.as_default():\n",
    "\n",
    "  # Input data.\n",
    "  # Load the training, validation and test data into constants that are\n",
    "  # attached to the graph.\n",
    "  tf_train_dataset = tf.constant(train_dataset[:train_subset, :])\n",
    "  tf_train_labels = tf.constant(train_labels[:train_subset])\n",
    "  tf_valid_dataset = tf.constant(valid_dataset)\n",
    "  tf_test_dataset = tf.constant(test_dataset)\n",
    "  \n",
    "  # Variables.\n",
    "  # These are the parameters that we are going to be training. The weight\n",
    "  # matrix will be initialized using random valued following a (truncated)\n",
    "  # normal distribution. The biases get initialized to zero.\n",
    "  weights = tf.Variable(\n",
    "    tf.truncated_normal([image_size * image_size, num_labels]))\n",
    "  biases = tf.Variable(tf.zeros([num_labels]))\n",
    "  beta = tf.constant(0.5)\n",
    "  \n",
    "  # Training computation.\n",
    "  # We multiply the inputs with the weight matrix, and add biases. We compute\n",
    "  # the softmax and cross-entropy (it's one operation in TensorFlow, because\n",
    "  # it's very common, and it can be optimized). We take the average of this\n",
    "  # cross-entropy across all training examples: that's our loss.\n",
    "  logits = tf.matmul(tf_train_dataset, weights) + biases\n",
    "  loss = tf.reduce_mean(\n",
    "    tf.nn.softmax_cross_entropy_with_logits(logits, tf_train_labels)) + tf.nn.l2_loss(weights) * beta\n",
    "  \n",
    "  # Optimizer.\n",
    "  # We are going to find the minimum of this loss using gradient descent.\n",
    "  optimizer = tf.train.GradientDescentOptimizer(0.3).minimize(loss)\n",
    "  \n",
    "  # Predictions for the training, validation, and test data.\n",
    "  # These are not part of training, but merely here so that we can report\n",
    "  # accuracy figures as we train.\n",
    "  train_prediction = tf.nn.softmax(logits)\n",
    "  valid_prediction = tf.nn.softmax(tf.matmul(tf_valid_dataset, weights) + biases)\n",
    "  test_prediction = tf.nn.softmax(tf.matmul(tf_test_dataset, weights) + biases)"
   ]
  },
  {
   "cell_type": "markdown",
   "metadata": {},
   "source": [
    "Run the logistics regression with L2 loss (Full data set)\n"
   ]
  },
  {
   "cell_type": "code",
   "execution_count": null,
   "metadata": {
    "collapsed": false
   },
   "outputs": [],
   "source": [
    "num_steps = 4001\n",
    "loss_list = []\n",
    "with tf.Session(graph=graph) as session:\n",
    "  # This is a one-time operation which ensures the parameters get initialized as\n",
    "  # we described in the graph: random weights for the matrix, zeros for the\n",
    "  # biases. \n",
    "  tf.initialize_all_variables().run()\n",
    "  print('Initialized')\n",
    "  for step in range(num_steps):\n",
    "    # Run the computations. We tell .run() that we want to run the optimizer,\n",
    "    # and get the loss value and the training predictions returned as numpy\n",
    "    # arrays.\n",
    "    _, l, predictions = session.run([optimizer, loss, train_prediction])\n",
    "    loss_list.append(l)\n",
    "    if (step % 400 == 0):\n",
    "      print('Loss at step %d: %f' % (step, l))\n",
    "      print('Training accuracy: %.2f%%' % accuracy(\n",
    "        predictions, train_labels[:train_subset]))\n",
    "      # Calling .eval() on valid_prediction is basically like calling run(), but\n",
    "      # just to get that one numpy array. Note that it recomputes all its graph\n",
    "      # dependencies.\n",
    "      print('Validation accuracy: %.2f%%' % accuracy(\n",
    "        valid_prediction.eval(), valid_labels))\n",
    "  print ('Test accuracy: %.2f%%' % accuracy(test_prediction.eval(), test_labels)) "
   ]
  },
  {
   "cell_type": "code",
   "execution_count": null,
   "metadata": {
    "collapsed": true
   },
   "outputs": [],
   "source": [
    "import matplotlib.pyplot as plt\n",
    "plt.plot(loss_list)\n",
    "plt.show()"
   ]
  },
  {
   "cell_type": "markdown",
   "metadata": {},
   "source": [
    "## Logistic Regression with stochastic descent algo"
   ]
  },
  {
   "cell_type": "code",
   "execution_count": null,
   "metadata": {
    "collapsed": true
   },
   "outputs": [],
   "source": [
    "batch_size = 128\n",
    "\n",
    "graph = tf.Graph()\n",
    "with graph.as_default():\n",
    "\n",
    "  # Input data. For the training data, we use a placeholder that will be fed\n",
    "  # at run time with a training minibatch.\n",
    "  tf_train_dataset = tf.placeholder(tf.float32,\n",
    "                                    shape=(batch_size, image_size * image_size))\n",
    "  tf_train_labels = tf.placeholder(tf.float32, shape=(batch_size, num_labels))\n",
    "  tf_valid_dataset = tf.constant(valid_dataset)\n",
    "  tf_test_dataset = tf.constant(test_dataset)\n",
    "  \n",
    "  # Variables.\n",
    "  weights = tf.Variable(\n",
    "    tf.truncated_normal([image_size * image_size, num_labels]))\n",
    "  biases = tf.Variable(tf.zeros([num_labels]))\n",
    "  beta = tf.constant(0.5)\n",
    "    \n",
    "  # Training computation.\n",
    "  logits = tf.matmul(tf_train_dataset, weights) + biases\n",
    "  loss = tf.reduce_mean(\n",
    "    tf.nn.softmax_cross_entropy_with_logits(logits, tf_train_labels)) + tf.nn.l2_loss(weights) * beta\n",
    "  \n",
    "  # Optimizer.\n",
    "  optimizer = tf.train.GradientDescentOptimizer(0.1).minimize(loss)\n",
    "  \n",
    "  # Predictions for the training, validation, and test data.\n",
    "  train_prediction = tf.nn.softmax(logits)\n",
    "  valid_prediction = tf.nn.softmax(\n",
    "    tf.matmul(tf_valid_dataset, weights) + biases)\n",
    "  test_prediction = tf.nn.softmax(tf.matmul(tf_test_dataset, weights) + biases)"
   ]
  },
  {
   "cell_type": "markdown",
   "metadata": {},
   "source": [
    "Run the model"
   ]
  },
  {
   "cell_type": "code",
   "execution_count": null,
   "metadata": {
    "collapsed": false
   },
   "outputs": [],
   "source": [
    "num_steps = 3001\n",
    "loss_list = []\n",
    "with tf.Session(graph=graph) as session:\n",
    "  tf.initialize_all_variables().run()\n",
    "  print(\"Initialized\")\n",
    "  for step in range(num_steps):\n",
    "    # Pick an offset within the training data, which has been randomized.\n",
    "    # Note: we could use better randomization across epochs.\n",
    "    # Generate a minibatch.\n",
    "    #offset = (step * batch_size) % (train_labels.shape[0] - batch_size)\n",
    "    #batch_data = train_dataset[offset:(offset + batch_size), :]\n",
    "    #batch_labels = train_labels[offset:(offset + batch_size), :]\n",
    "    \n",
    "    \n",
    "    #Using permutation to randomnilized the data\n",
    "    permutation = np.random.permutation(train_labels.shape[0])\n",
    "    idx = permutation[:batch_size]\n",
    "    #Generate a minibatch\n",
    "    batch_data = train_dataset[idx, :]\n",
    "    batch_labels = train_labels[idx,:]\n",
    "    \n",
    "    # Prepare a dictionary telling the session where to feed the minibatch.\n",
    "    # The key of the dictionary is the placeholder node of the graph to be fed,\n",
    "    # and the value is the numpy array to feed to it.\n",
    "    feed_dict = {tf_train_dataset : batch_data, tf_train_labels : batch_labels}\n",
    "    _, l, predictions = session.run(\n",
    "      [optimizer, loss, train_prediction], feed_dict=feed_dict)\n",
    "    loss_list.append(l)\n",
    "    if (step % 500 == 0):\n",
    "      print(\"Minibatch loss at step %d: %f\" % (step, l))\n",
    "      print(\"Minibatch accuracy: %.1f%%\" % accuracy(predictions, batch_labels))\n",
    "      print(\"Validation accuracy: %.1f%%\" % accuracy(\n",
    "        valid_prediction.eval(), valid_labels))\n",
    "  print(\"Test accuracy: %.1f%%\" % accuracy(test_prediction.eval(), test_labels))\n",
    "  "
   ]
  },
  {
   "cell_type": "code",
   "execution_count": null,
   "metadata": {
    "collapsed": true
   },
   "outputs": [],
   "source": [
    "import matplotlib.pyplot as plt\n",
    "\n",
    "plt.plot(loss_list)\n",
    "plt.show()"
   ]
  },
  {
   "cell_type": "markdown",
   "metadata": {},
   "source": [
    "## Neural Network"
   ]
  },
  {
   "cell_type": "markdown",
   "metadata": {},
   "source": [
    "### One hidden Level"
   ]
  },
  {
   "cell_type": "code",
   "execution_count": null,
   "metadata": {
    "collapsed": false
   },
   "outputs": [],
   "source": [
    "batch_size = 128\n",
    "n_hidden = 1024\n",
    "\n",
    "graph = tf.Graph()\n",
    "with graph.as_default():\n",
    "\n",
    "  # Input data. For the training data, we use a placeholder that will be fed\n",
    "  # at run time with a training minibatch.\n",
    "  tf_train_dataset = tf.placeholder(tf.float32,\n",
    "                                    shape=(batch_size, image_size * image_size))\n",
    "  tf_train_labels = tf.placeholder(tf.float32, shape=(batch_size, num_labels))\n",
    "  tf_valid_dataset = tf.constant(valid_dataset)\n",
    "  tf_test_dataset = tf.constant(test_dataset)\n",
    "  \n",
    "  tf_hidden_dataset = tf.placeholder(tf.float32, shape = (batch_size, n_hidden))\n",
    "    \n",
    "  \n",
    "\n",
    "  # Variables.\n",
    "  weights_0 = tf.Variable(\n",
    "    tf.truncated_normal([image_size * image_size, n_hidden]))\n",
    "  biases_0 = tf.Variable(tf.zeros([n_hidden]))\n",
    "    \n",
    "  weights_1 = tf.Variable(tf.truncated_normal([n_hidden, num_labels]))\n",
    "  biases_1 = tf.Variable(tf.zeros([num_labels]))\n",
    "  beta = tf.constant(0.1)\n",
    "  \n",
    "  # Training computation.\n",
    "  hidden_level = tf.matmul(tf_train_dataset, weights_0) + biases_0\n",
    "  tf_hidden_dataset = tf.nn.relu(hidden_level)\n",
    "  logits = tf.matmul(tf_hidden_dataset, weights_1) + biases_1\n",
    "  loss = tf.reduce_mean(\n",
    "    tf.nn.softmax_cross_entropy_with_logits(logits, tf_train_labels)) + (tf.nn.l2_loss(weights_0) + tf.nn.l2_loss(weights_1)) * beta\n",
    "  \n",
    "    \n",
    "  # Optimizer.\n",
    "  optimizer = tf.train.GradientDescentOptimizer(0.1).minimize(loss)\n",
    "  \n",
    "\n",
    "  def multilayer_perceptron(x, w_0, b_0,w_1, b_1):\n",
    "        l1 = tf.nn.relu(tf.matmul(x, w_0) + b_0)\n",
    "        pred = tf.matmul(l1, w_1) + b_1\n",
    "        return pred\n",
    "  # Predictions for the training, validation, and test data.\n",
    "  train_prediction = tf.nn.softmax(logits)\n",
    "  valid_prediction = tf.nn.softmax(multilayer_perceptron(tf_valid_dataset, weights_0, biases_0, weights_1, biases_1))\n",
    "  test_prediction = tf.nn.softmax(multilayer_perceptron(tf_test_dataset, weights_0, biases_0, weights_1, biases_1))\n",
    "  #valid_prediction = tf.nn.softmax(\n",
    "  #  tf.matmul(tf.nn.relu(tf.matmul(tf_valid_dataset,weights_0) + biases_0), weights_1) + biases_1)\n",
    "  #test_prediction = tf.nn.softmax(\n",
    "  #  tf.matmul(tf.nn.relu(tf.matmul(tf_test_dataset,weights_0) + biases_0), weights_1) + biases_1))\n",
    "  print (r'Run the following model!')"
   ]
  },
  {
   "cell_type": "code",
   "execution_count": null,
   "metadata": {
    "collapsed": false
   },
   "outputs": [],
   "source": [
    "num_steps = 2001\n",
    "rows = train_labels.shape[0]\n",
    "loss_list = []\n",
    "with tf.Session(graph=graph) as session:\n",
    "  tf.initialize_all_variables().run()\n",
    "  print(\"Initialized\")\n",
    "  for step in range(num_steps):\n",
    "    # Pick an offset within the training data, which has been randomized.\n",
    "    # Note: we could use better randomization across epochs.\n",
    "    #offset = (step * batch_size) % (train_labels.shape[0] - batch_size)\n",
    "    permutation = np.random.permutation(train_labels.shape[0])\n",
    "    idx = permutation[:batch_size]\n",
    "    #Generate a minibatch\n",
    "    batch_data = train_dataset[idx, :]\n",
    "    batch_labels = train_labels[idx,:]\n",
    "    # Generate a minibatch.\n",
    "    #batch_data = train_dataset[offset:(offset + batch_size), :]\n",
    "    #batch_labels = train_labels[offset:(offset + batch_size), :]\n",
    "    # Prepare a dictionary telling the session where to feed the minibatch.\n",
    "    # The key of the dictionary is the placeholder node of the graph to be fed,\n",
    "    # and the value is the numpy array to feed to it.\n",
    "    feed_dict = {tf_train_dataset : batch_data, tf_train_labels : batch_labels}\n",
    "    _, l, predictions = session.run(\n",
    "      [optimizer, loss, train_prediction], feed_dict=feed_dict)\n",
    "    loss_list.append(l)\n",
    "    if (step % 200 == 0):\n",
    "      print(\"Minibatch loss at step %d: %f\" % (step, l))\n",
    "      print(\"Minibatch accuracy: %.2f%%\" % accuracy(predictions, batch_labels))\n",
    "      print(\"Validation accuracy: %.2f%%\" % accuracy(\n",
    "        valid_prediction.eval(), valid_labels))\n",
    "  print(\"Test accuracy: %.2f%%\" % accuracy(test_prediction.eval(), test_labels))"
   ]
  },
  {
   "cell_type": "code",
   "execution_count": null,
   "metadata": {
    "collapsed": true
   },
   "outputs": [],
   "source": [
    "import matplotlib.pyplot as plt\n",
    "plt.plot(loss_list[400::])\n",
    "plt.show()"
   ]
  },
  {
   "cell_type": "markdown",
   "metadata": {},
   "source": [
    "### Two hidden level"
   ]
  },
  {
   "cell_type": "code",
   "execution_count": 49,
   "metadata": {
    "collapsed": false
   },
   "outputs": [
    {
     "name": "stdout",
     "output_type": "stream",
     "text": [
      "Run the following model!\n"
     ]
    }
   ],
   "source": [
    "batch_size = 128\n",
    "n_hidden = [1024,528]\n",
    "\n",
    "graph = tf.Graph()\n",
    "with graph.as_default():\n",
    "\n",
    "  # Input data. For the training data, we use a placeholder that will be fed\n",
    "  # at run time with a training minibatch.\n",
    "  tf_train_dataset = tf.placeholder(tf.float32,\n",
    "                                    shape=(batch_size, image_size * image_size))\n",
    "  tf_train_labels = tf.placeholder(tf.float32, shape=(batch_size, num_labels))\n",
    "  tf_valid_dataset = tf.constant(valid_dataset)\n",
    "  tf_test_dataset = tf.constant(test_dataset)\n",
    "  \n",
    "  tf_hidden_dataset_1 = tf.placeholder(tf.float32, shape = (batch_size, n_hidden[0]))\n",
    "  tf_hidden_dataset_2 = tf.placeholder(tf.float32, shape = (batch_size, n_hidden[1]))\n",
    "    \n",
    "  \n",
    "\n",
    "  # Variables.\n",
    "  weights_0 = tf.Variable(\n",
    "    tf.truncated_normal([image_size * image_size, n_hidden[0]]))\n",
    "  biases_0 = tf.Variable(tf.zeros([n_hidden[0]]))\n",
    "  \n",
    "  weights_1 = tf.Variable(\n",
    "    tf.truncated_normal([n_hidden[0], n_hidden[1]]))\n",
    "  biases_1 = tf.Variable(tf.zeros([n_hidden[1]])) \n",
    "    \n",
    "  weights_2 = tf.Variable(tf.truncated_normal([n_hidden[1], num_labels]))\n",
    "  biases_2 = tf.Variable(tf.zeros([num_labels]))\n",
    "  \n",
    "  beta = tf.constant(0.1)\n",
    "  # Training computation.\n",
    "  hidden_level_1 = tf.matmul(tf_train_dataset, weights_0) + biases_0\n",
    "  tf_hidden_dataset_1 = tf.nn.relu(hidden_level_1)\n",
    "  hidden_level_2 = tf.matmul(tf_hidden_dataset_1, weights_1) + biases_1\n",
    "  tf_hidden_dataset_2 = tf.nn.relu(hidden_level_2)\n",
    "    \n",
    "  logits = tf.matmul(tf_hidden_dataset_2, weights_2) + biases_2\n",
    "  loss = tf.reduce_mean(\n",
    "    tf.nn.softmax_cross_entropy_with_logits(logits, tf_train_labels)) + (tf.nn.l2_loss(weights_0) + tf.nn.l2_loss(weights_1) + tf.nn.l2_loss(\n",
    "    weights_2) + tf.nn.l2_loss(biases_0) + tf.nn.l2_loss(biases_1) + tf.nn.l2_loss(biases_2)) * beta\n",
    "  \n",
    "    \n",
    "  # Optimizer.\n",
    "  optimizer = tf.train.GradientDescentOptimizer(0.002).minimize(loss)\n",
    "  \n",
    "\n",
    "  def multilayer_perceptron(x, w_0, b_0,w_1, b_1, w_2, b_2):\n",
    "        l1 = tf.nn.relu(tf.matmul(x, w_0) + b_0)\n",
    "        l2 = tf.nn.relu(tf.matmul(l1,w_1) + b_1)\n",
    "        pred = tf.matmul(l2, w_2) + b_2\n",
    "        return pred\n",
    "  # Predictions for the training, validation, and test data.\n",
    "  train_prediction = tf.nn.softmax(logits)\n",
    "  valid_prediction = tf.nn.softmax(multilayer_perceptron(tf_valid_dataset, weights_0, biases_0, weights_1, biases_1, weights_2, biases_2))\n",
    "  test_prediction = tf.nn.softmax(multilayer_perceptron(tf_test_dataset, weights_0, biases_0, weights_1, biases_1, weights_2, biases_2))\n",
    "  #valid_prediction = tf.nn.softmax(\n",
    "  #  tf.matmul(tf.nn.relu(tf.matmul(tf_valid_dataset,weights_0) + biases_0), weights_1) + biases_1)\n",
    "  #test_prediction = tf.nn.softmax(\n",
    "  #  tf.matmul(tf.nn.relu(tf.matmul(tf_test_dataset,weights_0) + biases_0), weights_1) + biases_1))\n",
    "  print (r'Run the following model!')"
   ]
  },
  {
   "cell_type": "code",
   "execution_count": 50,
   "metadata": {
    "collapsed": false
   },
   "outputs": [
    {
     "name": "stdout",
     "output_type": "stream",
     "text": [
      "Initialized\n",
      "Minibatch loss at step 0: 57418.320312\n",
      "Minibatch accuracy: 10.16%\n",
      "Validation accuracy: 14.81%\n",
      "Minibatch loss at step 200: 48436.464844\n",
      "Minibatch accuracy: 70.31%\n",
      "Validation accuracy: 74.00%\n",
      "Minibatch loss at step 400: 44518.035156\n",
      "Minibatch accuracy: 84.38%\n",
      "Validation accuracy: 77.71%\n",
      "Minibatch loss at step 600: 41088.519531\n",
      "Minibatch accuracy: 75.78%\n",
      "Validation accuracy: 77.91%\n",
      "Minibatch loss at step 800: 37817.433594\n",
      "Minibatch accuracy: 85.94%\n",
      "Validation accuracy: 78.60%\n",
      "Minibatch loss at step 1000: 34915.656250\n",
      "Minibatch accuracy: 86.72%\n",
      "Validation accuracy: 78.64%\n",
      "Minibatch loss at step 1200: 32216.841797\n",
      "Minibatch accuracy: 87.50%\n",
      "Validation accuracy: 78.77%\n",
      "Minibatch loss at step 1400: 29728.058594\n",
      "Minibatch accuracy: 88.28%\n",
      "Validation accuracy: 78.81%\n",
      "Minibatch loss at step 1600: 27435.839844\n",
      "Minibatch accuracy: 88.28%\n",
      "Validation accuracy: 79.13%\n",
      "Minibatch loss at step 1800: 25311.039062\n",
      "Minibatch accuracy: 89.84%\n",
      "Validation accuracy: 79.20%\n",
      "Minibatch loss at step 2000: 23357.642578\n",
      "Minibatch accuracy: 91.41%\n",
      "Validation accuracy: 78.84%\n",
      "Minibatch loss at step 2200: 21556.742188\n",
      "Minibatch accuracy: 95.31%\n",
      "Validation accuracy: 78.82%\n",
      "Minibatch loss at step 2400: 19900.515625\n",
      "Minibatch accuracy: 95.31%\n",
      "Validation accuracy: 78.72%\n",
      "Minibatch loss at step 2600: 18371.583984\n",
      "Minibatch accuracy: 91.41%\n",
      "Validation accuracy: 78.96%\n",
      "Minibatch loss at step 2800: 16955.351562\n",
      "Minibatch accuracy: 89.84%\n",
      "Validation accuracy: 78.72%\n",
      "Minibatch loss at step 3000: 15655.192383\n",
      "Minibatch accuracy: 95.31%\n",
      "Validation accuracy: 78.76%\n",
      "Minibatch loss at step 3200: 14446.837891\n",
      "Minibatch accuracy: 96.88%\n",
      "Validation accuracy: 78.90%\n",
      "Minibatch loss at step 3400: 13336.413086\n",
      "Minibatch accuracy: 91.41%\n",
      "Validation accuracy: 78.75%\n",
      "Minibatch loss at step 3600: 12310.859375\n",
      "Minibatch accuracy: 92.19%\n",
      "Validation accuracy: 78.82%\n",
      "Minibatch loss at step 3800: 11364.312500\n",
      "Minibatch accuracy: 96.88%\n",
      "Validation accuracy: 78.62%\n",
      "Minibatch loss at step 4000: 10490.081055\n",
      "Minibatch accuracy: 95.31%\n",
      "Validation accuracy: 78.71%\n",
      "Minibatch loss at step 4200: 9681.928711\n",
      "Minibatch accuracy: 95.31%\n",
      "Validation accuracy: 78.62%\n",
      "Minibatch loss at step 4400: 8937.848633\n",
      "Minibatch accuracy: 93.75%\n",
      "Validation accuracy: 78.60%\n",
      "Minibatch loss at step 4600: 8250.308594\n",
      "Minibatch accuracy: 95.31%\n",
      "Validation accuracy: 78.47%\n",
      "Minibatch loss at step 4800: 7615.962891\n",
      "Minibatch accuracy: 94.53%\n",
      "Validation accuracy: 78.59%\n",
      "Minibatch loss at step 5000: 7030.152344\n",
      "Minibatch accuracy: 96.09%\n",
      "Validation accuracy: 78.39%\n",
      "Test accuracy: 85.42%\n"
     ]
    }
   ],
   "source": [
    "num_steps = 5001\n",
    "rows = train_labels.shape[0]\n",
    "loss_list = []\n",
    "train_accuracy = []\n",
    "with tf.Session(graph=graph) as session:\n",
    "  tf.initialize_all_variables().run()\n",
    "  print(\"Initialized\")\n",
    "  for step in range(num_steps):\n",
    "    # Pick an offset within the training data, which has been randomized.\n",
    "    # Note: we could use better randomization across epochs.\n",
    "    #offset = (step * batch_size) % (train_labels.shape[0] - batch_size)\n",
    "    permutation = np.random.permutation(train_labels.shape[0])\n",
    "    idx = permutation[:batch_size]\n",
    "    #Generate a minibatch\n",
    "    batch_data = train_dataset[idx, :]\n",
    "    batch_labels = train_labels[idx,:]\n",
    "    # Generate a minibatch.\n",
    "    #batch_data = train_dataset[offset:(offset + batch_size), :]\n",
    "    #batch_labels = train_labels[offset:(offset + batch_size), :]\n",
    "    # Prepare a dictionary telling the session where to feed the minibatch.\n",
    "    # The key of the dictionary is the placeholder node of the graph to be fed,\n",
    "    # and the value is the numpy array to feed to it.\n",
    "    feed_dict = {tf_train_dataset : batch_data, tf_train_labels : batch_labels}\n",
    "    _, l, predictions = session.run(\n",
    "      [optimizer, loss, train_prediction], feed_dict=feed_dict)\n",
    "    loss_list.append(l)\n",
    "    train_accuracy.append(accuracy(predictions, batch_labels))\n",
    "    if (step % 200 == 0):\n",
    "      print(\"Minibatch loss at step %d: %f\" % (step, l))\n",
    "      print(\"Minibatch accuracy: %.2f%%\" % accuracy(predictions, batch_labels))\n",
    "      print(\"Validation accuracy: %.2f%%\" % accuracy(\n",
    "        valid_prediction.eval(), valid_labels))\n",
    "  print(\"Test accuracy: %.2f%%\" % accuracy(test_prediction.eval(), test_labels))"
   ]
  },
  {
   "cell_type": "code",
   "execution_count": 51,
   "metadata": {
    "collapsed": false
   },
   "outputs": [],
   "source": [
    "import matplotlib.pyplot as plt\n",
    "plt.subplot(2,1,1)\n",
    "plt.plot(loss_list)\n",
    "plt.subplot(2,1,2)\n",
    "plt.plot(train_accuracy)\n",
    "plt.show()"
   ]
  },
  {
   "cell_type": "markdown",
   "metadata": {
    "colab_type": "text",
    "id": "na8xX2yHZzNF"
   },
   "source": [
    "---\n",
    "Problem 2\n",
    "---------\n",
    "Let's demonstrate an extreme case of overfitting. Restrict your training data to just a few batches. What happens?\n",
    "\n",
    "---"
   ]
  },
  {
   "cell_type": "markdown",
   "metadata": {
    "colab_type": "text",
    "id": "ww3SCBUdlkRc"
   },
   "source": [
    "---\n",
    "Problem 3\n",
    "---------\n",
    "Introduce Dropout on the hidden layer of the neural network. Remember: Dropout should only be introduced during training, not evaluation, otherwise your evaluation results would be stochastic as well. TensorFlow provides `nn.dropout()` for that, but you have to make sure it's only inserted during training.\n",
    "\n",
    "What happens to our extreme overfitting case?\n",
    "\n",
    "---"
   ]
  },
  {
   "cell_type": "markdown",
   "metadata": {
    "colab_type": "text",
    "id": "-b1hTz3VWZjw"
   },
   "source": [
    "---\n",
    "Problem 4\n",
    "---------\n",
    "\n",
    "Try to get the best performance you can using a multi-layer model! The best reported test accuracy using a deep network is [97.1%](http://yaroslavvb.blogspot.com/2011/09/notmnist-dataset.html?showComment=1391023266211#c8758720086795711595).\n",
    "\n",
    "One avenue you can explore is to add multiple layers.\n",
    "\n",
    "Another one is to use learning rate decay:\n",
    "\n",
    "    global_step = tf.Variable(0)  # count the number of steps taken.\n",
    "    learning_rate = tf.train.exponential_decay(0.5, global_step, ...)\n",
    "    optimizer = tf.train.GradientDescentOptimizer(learning_rate).minimize(loss, global_step=global_step)\n",
    " \n",
    " ---\n"
   ]
  }
 ],
 "metadata": {
  "colab": {
   "default_view": {},
   "name": "3_regularization.ipynb",
   "provenance": [],
   "version": "0.3.2",
   "views": {}
  },
  "kernelspec": {
   "display_name": "Python 2",
   "language": "python",
   "name": "python2"
  },
  "language_info": {
   "codemirror_mode": {
    "name": "ipython",
    "version": 2
   },
   "file_extension": ".py",
   "mimetype": "text/x-python",
   "name": "python",
   "nbconvert_exporter": "python",
   "pygments_lexer": "ipython2",
   "version": "2.7.6"
  }
 },
 "nbformat": 4,
 "nbformat_minor": 0
}
