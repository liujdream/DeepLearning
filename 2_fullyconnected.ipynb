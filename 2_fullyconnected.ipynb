{
 "cells": [
  {
   "cell_type": "markdown",
   "metadata": {
    "colab_type": "text",
    "id": "kR-4eNdK6lYS"
   },
   "source": [
    "Deep Learning\n",
    "=============\n",
    "\n",
    "Assignment 2\n",
    "------------\n",
    "\n",
    "Previously in `1_notmnist.ipynb`, we created a pickle with formatted datasets for training, development and testing on the [notMNIST dataset](http://yaroslavvb.blogspot.com/2011/09/notmnist-dataset.html).\n",
    "\n",
    "The goal of this assignment is to progressively train deeper and more accurate models using TensorFlow."
   ]
  },
  {
   "cell_type": "code",
   "execution_count": 1,
   "metadata": {
    "cellView": "both",
    "colab": {
     "autoexec": {
      "startup": false,
      "wait_interval": 0
     }
    },
    "colab_type": "code",
    "collapsed": false,
    "id": "JLpLa8Jt7Vu4"
   },
   "outputs": [
    {
     "name": "stdout",
     "output_type": "stream",
     "text": [
      "Thu Jun 30 17:04:07 2016\n"
     ]
    }
   ],
   "source": [
    "# These are all the modules we'll be using later. Make sure you can import them\n",
    "# before proceeding further.\n",
    "from __future__ import print_function\n",
    "import numpy as np\n",
    "import tensorflow as tf\n",
    "from six.moves import cPickle as pickle\n",
    "from six.moves import range\n",
    "import time\n",
    "localtime = time.asctime( time.localtime(time.time()) )\n",
    "print (localtime)"
   ]
  },
  {
   "cell_type": "markdown",
   "metadata": {
    "colab_type": "text",
    "id": "1HrCK6e17WzV"
   },
   "source": [
    "First reload the data we generated in `1_notmnist.ipynb`."
   ]
  },
  {
   "cell_type": "code",
   "execution_count": 2,
   "metadata": {
    "cellView": "both",
    "colab": {
     "autoexec": {
      "startup": false,
      "wait_interval": 0
     },
     "output_extras": [
      {
       "item_id": 1
      }
     ]
    },
    "colab_type": "code",
    "collapsed": false,
    "executionInfo": {
     "elapsed": 19456,
     "status": "ok",
     "timestamp": 1449847956073,
     "user": {
      "color": "",
      "displayName": "",
      "isAnonymous": false,
      "isMe": true,
      "permissionId": "",
      "photoUrl": "",
      "sessionId": "0",
      "userId": ""
     },
     "user_tz": 480
    },
    "id": "y3-cj1bpmuxc",
    "outputId": "0ddb1607-1fc4-4ddb-de28-6c7ab7fb0c33"
   },
   "outputs": [
    {
     "name": "stdout",
     "output_type": "stream",
     "text": [
      "Training set (20000, 28, 28) (20000,)\n",
      "Validation set (5000, 28, 28) (5000,)\n",
      "Test set (5000, 28, 28) (5000,)\n"
     ]
    }
   ],
   "source": [
    "pickle_file = 'notMNIST.pickle'\n",
    "\n",
    "with open(pickle_file, 'rb') as f:\n",
    "  save = pickle.load(f)\n",
    "  train_dataset = save['train_dataset']\n",
    "  train_labels = save['train_labels']\n",
    "  valid_dataset = save['valid_dataset']\n",
    "  valid_labels = save['valid_labels']\n",
    "  test_dataset = save['test_dataset']\n",
    "  test_labels = save['test_labels']\n",
    "  del save  # hint to help gc free up memory\n",
    "  print('Training set', train_dataset.shape, train_labels.shape)\n",
    "  print('Validation set', valid_dataset.shape, valid_labels.shape)\n",
    "  print('Test set', test_dataset.shape, test_labels.shape)"
   ]
  },
  {
   "cell_type": "markdown",
   "metadata": {
    "colab_type": "text",
    "id": "L7aHrm6nGDMB"
   },
   "source": [
    "Reformat into a shape that's more adapted to the models we're going to train:\n",
    "- data as a flat matrix,\n",
    "- labels as float 1-hot encodings."
   ]
  },
  {
   "cell_type": "code",
   "execution_count": 3,
   "metadata": {
    "cellView": "both",
    "colab": {
     "autoexec": {
      "startup": false,
      "wait_interval": 0
     },
     "output_extras": [
      {
       "item_id": 1
      }
     ]
    },
    "colab_type": "code",
    "collapsed": false,
    "executionInfo": {
     "elapsed": 19723,
     "status": "ok",
     "timestamp": 1449847956364,
     "user": {
      "color": "",
      "displayName": "",
      "isAnonymous": false,
      "isMe": true,
      "permissionId": "",
      "photoUrl": "",
      "sessionId": "0",
      "userId": ""
     },
     "user_tz": 480
    },
    "id": "IRSyYiIIGIzS",
    "outputId": "2ba0fc75-1487-4ace-a562-cf81cae82793"
   },
   "outputs": [
    {
     "name": "stdout",
     "output_type": "stream",
     "text": [
      "Training set (20000, 784) (20000, 10)\n",
      "Validation set (5000, 784) (5000, 10)\n",
      "Test set (5000, 784) (5000, 10)\n"
     ]
    }
   ],
   "source": [
    "image_size = 28\n",
    "num_labels = 10\n",
    "\n",
    "def reformat(dataset, labels):\n",
    "  dataset = dataset.reshape((-1, image_size * image_size)).astype(np.float32)\n",
    "  # Map 0 to [1.0, 0.0, 0.0 ...], 1 to [0.0, 1.0, 0.0 ...]\n",
    "  labels = (np.arange(num_labels) == labels[:,None]).astype(np.float32)\n",
    "  return dataset, labels\n",
    "train_dataset, train_labels = reformat(train_dataset, train_labels)\n",
    "valid_dataset, valid_labels = reformat(valid_dataset, valid_labels)\n",
    "test_dataset, test_labels = reformat(test_dataset, test_labels)\n",
    "print('Training set', train_dataset.shape, train_labels.shape)\n",
    "print('Validation set', valid_dataset.shape, valid_labels.shape)\n",
    "print('Test set', test_dataset.shape, test_labels.shape)"
   ]
  },
  {
   "cell_type": "markdown",
   "metadata": {
    "colab_type": "text",
    "id": "nCLVqyQ5vPPH"
   },
   "source": [
    "We're first going to train a multinomial logistic regression using simple gradient descent.\n",
    "\n",
    "TensorFlow works like this:\n",
    "* First you describe the computation that you want to see performed: what the inputs, the variables, and the operations look like. These get created as nodes over a computation graph. This description is all contained within the block below:\n",
    "\n",
    "      with graph.as_default():\n",
    "          ...\n",
    "\n",
    "* Then you can run the operations on this graph as many times as you want by calling `session.run()`, providing it outputs to fetch from the graph that get returned. This runtime operation is all contained in the block below:\n",
    "\n",
    "      with tf.Session(graph=graph) as session:\n",
    "          ...\n",
    "\n",
    "Let's load all the data into TensorFlow and build the computation graph corresponding to our training:"
   ]
  },
  {
   "cell_type": "code",
   "execution_count": 14,
   "metadata": {
    "cellView": "both",
    "colab": {
     "autoexec": {
      "startup": false,
      "wait_interval": 0
     }
    },
    "colab_type": "code",
    "collapsed": false,
    "id": "Nfv39qvtvOl_"
   },
   "outputs": [],
   "source": [
    "# With gradient descent training, even this much data is prohibitive.\n",
    "# Subset the training data for faster turnaround.\n",
    "train_subset = 10000\n",
    "\n",
    "graph = tf.Graph()\n",
    "with graph.as_default():\n",
    "\n",
    "  # Input data.\n",
    "  # Load the training, validation and test data into constants that are\n",
    "  # attached to the graph.\n",
    "  tf_train_dataset = tf.constant(train_dataset[:train_subset, :])\n",
    "  tf_train_labels = tf.constant(train_labels[:train_subset])\n",
    "  tf_valid_dataset = tf.constant(valid_dataset)\n",
    "  tf_test_dataset = tf.constant(test_dataset)\n",
    "  \n",
    "  # Variables.\n",
    "  # These are the parameters that we are going to be training. The weight\n",
    "  # matrix will be initialized using random valued following a (truncated)\n",
    "  # normal distribution. The biases get initialized to zero.\n",
    "  weights = tf.Variable(\n",
    "    tf.truncated_normal([image_size * image_size, num_labels]))\n",
    "  biases = tf.Variable(tf.zeros([num_labels]))\n",
    "  \n",
    "  # Training computation.\n",
    "  # We multiply the inputs with the weight matrix, and add biases. We compute\n",
    "  # the softmax and cross-entropy (it's one operation in TensorFlow, because\n",
    "  # it's very common, and it can be optimized). We take the average of this\n",
    "  # cross-entropy across all training examples: that's our loss.\n",
    "  logits = tf.matmul(tf_train_dataset, weights) + biases\n",
    "  loss = tf.reduce_mean(\n",
    "    tf.nn.softmax_cross_entropy_with_logits(logits, tf_train_labels))\n",
    "  \n",
    "  # Optimizer.\n",
    "  # We are going to find the minimum of this loss using gradient descent.\n",
    "  optimizer = tf.train.GradientDescentOptimizer(1.0).minimize(loss)\n",
    "  \n",
    "  # Predictions for the training, validation, and test data.\n",
    "  # These are not part of training, but merely here so that we can report\n",
    "  # accuracy figures as we train.\n",
    "  train_prediction = tf.nn.softmax(logits)\n",
    "  valid_prediction = tf.nn.softmax(tf.matmul(tf_valid_dataset, weights) + biases)\n",
    "  test_prediction = tf.nn.softmax(tf.matmul(tf_test_dataset, weights) + biases)"
   ]
  },
  {
   "cell_type": "markdown",
   "metadata": {
    "colab_type": "text",
    "id": "KQcL4uqISHjP"
   },
   "source": [
    "Let's run this computation and iterate:"
   ]
  },
  {
   "cell_type": "code",
   "execution_count": 7,
   "metadata": {
    "collapsed": true
   },
   "outputs": [],
   "source": [
    "def accuracy(predictions, labels):\n",
    "  return (100.0 * np.sum(np.argmax(predictions, 1) == np.argmax(labels, 1))\n",
    "          / predictions.shape[0])"
   ]
  },
  {
   "cell_type": "code",
   "execution_count": 15,
   "metadata": {
    "cellView": "both",
    "colab": {
     "autoexec": {
      "startup": false,
      "wait_interval": 0
     },
     "output_extras": [
      {
       "item_id": 9
      }
     ]
    },
    "colab_type": "code",
    "collapsed": false,
    "executionInfo": {
     "elapsed": 57454,
     "status": "ok",
     "timestamp": 1449847994134,
     "user": {
      "color": "",
      "displayName": "",
      "isAnonymous": false,
      "isMe": true,
      "permissionId": "",
      "photoUrl": "",
      "sessionId": "0",
      "userId": ""
     },
     "user_tz": 480
    },
    "id": "z2cjdenH869W",
    "outputId": "4c037ba1-b526-4d8e-e632-91e2a0333267"
   },
   "outputs": [
    {
     "name": "stdout",
     "output_type": "stream",
     "text": [
      "Initialized\n",
      "Loss at step 0: 14.480868\n",
      "Training accuracy: 18.35%\n",
      "Validation accuracy: 26.36%\n",
      "Loss at step 400: 1.084673\n",
      "Training accuracy: 79.11%\n",
      "Validation accuracy: 76.12%\n",
      "Loss at step 800: 0.799964\n",
      "Training accuracy: 81.85%\n",
      "Validation accuracy: 76.74%\n",
      "Loss at step 1200: 0.667826\n",
      "Training accuracy: 83.59%\n",
      "Validation accuracy: 77.46%\n",
      "Loss at step 1600: 0.589473\n",
      "Training accuracy: 84.94%\n",
      "Validation accuracy: 77.30%\n",
      "Loss at step 2000: 0.536895\n",
      "Training accuracy: 86.29%\n",
      "Validation accuracy: 77.24%\n",
      "Loss at step 2400: 0.498685\n",
      "Training accuracy: 87.09%\n",
      "Validation accuracy: 77.16%\n",
      "Loss at step 2800: 0.469332\n",
      "Training accuracy: 87.78%\n",
      "Validation accuracy: 77.30%\n",
      "Loss at step 3200: 0.445866\n",
      "Training accuracy: 88.15%\n",
      "Validation accuracy: 77.46%\n",
      "Loss at step 3600: 0.426573\n",
      "Training accuracy: 88.63%\n",
      "Validation accuracy: 77.52%\n",
      "Loss at step 4000: 0.410366\n",
      "Training accuracy: 89.09%\n",
      "Validation accuracy: 77.44%\n",
      "Test accuracy: 84.40%\n"
     ]
    }
   ],
   "source": [
    "num_steps = 4001\n",
    "\n",
    "with tf.Session(graph=graph) as session:\n",
    "  # This is a one-time operation which ensures the parameters get initialized as\n",
    "  # we described in the graph: random weights for the matrix, zeros for the\n",
    "  # biases. \n",
    "  tf.initialize_all_variables().run()\n",
    "  print('Initialized')\n",
    "  for step in range(num_steps):\n",
    "    # Run the computations. We tell .run() that we want to run the optimizer,\n",
    "    # and get the loss value and the training predictions returned as numpy\n",
    "    # arrays.\n",
    "    _, l, predictions = session.run([optimizer, loss, train_prediction])\n",
    "    if (step % 400 == 0):\n",
    "      print('Loss at step %d: %f' % (step, l))\n",
    "      print('Training accuracy: %.2f%%' % accuracy(\n",
    "        predictions, train_labels[:train_subset]))\n",
    "      # Calling .eval() on valid_prediction is basically like calling run(), but\n",
    "      # just to get that one numpy array. Note that it recomputes all its graph\n",
    "      # dependencies.\n",
    "      print('Validation accuracy: %.2f%%' % accuracy(\n",
    "        valid_prediction.eval(), valid_labels))\n",
    "  print ('Test accuracy: %.2f%%' % accuracy(test_prediction.eval(), test_labels)) "
   ]
  },
  {
   "cell_type": "markdown",
   "metadata": {
    "colab_type": "text",
    "id": "x68f-hxRGm3H"
   },
   "source": [
    "Let's now switch to stochastic gradient descent training instead, which is much faster.\n",
    "\n",
    "The graph will be similar, except that instead of holding all the training data into a constant node, we create a `Placeholder` node which will be fed actual data at every call of `sesion.run()`."
   ]
  },
  {
   "cell_type": "code",
   "execution_count": 20,
   "metadata": {
    "cellView": "both",
    "colab": {
     "autoexec": {
      "startup": false,
      "wait_interval": 0
     }
    },
    "colab_type": "code",
    "collapsed": true,
    "id": "qhPMzWYRGrzM"
   },
   "outputs": [],
   "source": [
    "batch_size = 128\n",
    "\n",
    "graph = tf.Graph()\n",
    "with graph.as_default():\n",
    "\n",
    "  # Input data. For the training data, we use a placeholder that will be fed\n",
    "  # at run time with a training minibatch.\n",
    "  tf_train_dataset = tf.placeholder(tf.float32,\n",
    "                                    shape=(batch_size, image_size * image_size))\n",
    "  tf_train_labels = tf.placeholder(tf.float32, shape=(batch_size, num_labels))\n",
    "  tf_valid_dataset = tf.constant(valid_dataset)\n",
    "  tf_test_dataset = tf.constant(test_dataset)\n",
    "  \n",
    "  # Variables.\n",
    "  weights = tf.Variable(\n",
    "    tf.truncated_normal([image_size * image_size, num_labels]))\n",
    "  biases = tf.Variable(tf.zeros([num_labels]))\n",
    "  \n",
    "  # Training computation.\n",
    "  logits = tf.matmul(tf_train_dataset, weights) + biases\n",
    "  loss = tf.reduce_mean(\n",
    "    tf.nn.softmax_cross_entropy_with_logits(logits, tf_train_labels))\n",
    "  \n",
    "  # Optimizer.\n",
    "  optimizer = tf.train.GradientDescentOptimizer(0.1).minimize(loss)\n",
    "  \n",
    "  # Predictions for the training, validation, and test data.\n",
    "  train_prediction = tf.nn.softmax(logits)\n",
    "  valid_prediction = tf.nn.softmax(\n",
    "    tf.matmul(tf_valid_dataset, weights) + biases)\n",
    "  test_prediction = tf.nn.softmax(tf.matmul(tf_test_dataset, weights) + biases)"
   ]
  },
  {
   "cell_type": "markdown",
   "metadata": {
    "colab_type": "text",
    "id": "XmVZESmtG4JH"
   },
   "source": [
    "Let's run it:"
   ]
  },
  {
   "cell_type": "code",
   "execution_count": 25,
   "metadata": {
    "cellView": "both",
    "colab": {
     "autoexec": {
      "startup": false,
      "wait_interval": 0
     },
     "output_extras": [
      {
       "item_id": 6
      }
     ]
    },
    "colab_type": "code",
    "collapsed": false,
    "executionInfo": {
     "elapsed": 66292,
     "status": "ok",
     "timestamp": 1449848003013,
     "user": {
      "color": "",
      "displayName": "",
      "isAnonymous": false,
      "isMe": true,
      "permissionId": "",
      "photoUrl": "",
      "sessionId": "0",
      "userId": ""
     },
     "user_tz": 480
    },
    "id": "FoF91pknG_YW",
    "outputId": "d255c80e-954d-4183-ca1c-c7333ce91d0a"
   },
   "outputs": [
    {
     "name": "stdout",
     "output_type": "stream",
     "text": [
      "Initialized\n",
      "Minibatch loss at step 0: 15.716947\n",
      "Minibatch accuracy: 8.6%\n",
      "Validation accuracy: 8.2%\n",
      "Minibatch loss at step 500: 2.239144\n",
      "Minibatch accuracy: 75.0%\n",
      "Validation accuracy: 70.3%\n",
      "Minibatch loss at step 1000: 2.010792\n",
      "Minibatch accuracy: 71.1%\n",
      "Validation accuracy: 73.3%\n",
      "Minibatch loss at step 1500: 1.742933\n",
      "Minibatch accuracy: 75.8%\n",
      "Validation accuracy: 73.9%\n",
      "Minibatch loss at step 2000: 1.015141\n",
      "Minibatch accuracy: 82.0%\n",
      "Validation accuracy: 74.8%\n",
      "Minibatch loss at step 2500: 1.927985\n",
      "Minibatch accuracy: 74.2%\n",
      "Validation accuracy: 75.2%\n",
      "Minibatch loss at step 3000: 1.310254\n",
      "Minibatch accuracy: 82.0%\n",
      "Validation accuracy: 75.8%\n",
      "Test accuracy: 82.7%\n"
     ]
    }
   ],
   "source": [
    "num_steps = 3001\n",
    "loss_list = []\n",
    "with tf.Session(graph=graph) as session:\n",
    "  tf.initialize_all_variables().run()\n",
    "  print(\"Initialized\")\n",
    "  for step in range(num_steps):\n",
    "    # Pick an offset within the training data, which has been randomized.\n",
    "    # Note: we could use better randomization across epochs.\n",
    "    # Generate a minibatch.\n",
    "    #offset = (step * batch_size) % (train_labels.shape[0] - batch_size)\n",
    "    #batch_data = train_dataset[offset:(offset + batch_size), :]\n",
    "    #batch_labels = train_labels[offset:(offset + batch_size), :]\n",
    "    \n",
    "    \n",
    "    #Using permutation to randomnilized the data\n",
    "    permutation = np.random.permutation(train_labels.shape[0])\n",
    "    idx = permutation[:batch_size]\n",
    "    #Generate a minibatch\n",
    "    batch_data = train_dataset[idx, :]\n",
    "    batch_labels = train_labels[idx,:]\n",
    "    \n",
    "    # Prepare a dictionary telling the session where to feed the minibatch.\n",
    "    # The key of the dictionary is the placeholder node of the graph to be fed,\n",
    "    # and the value is the numpy array to feed to it.\n",
    "    feed_dict = {tf_train_dataset : batch_data, tf_train_labels : batch_labels}\n",
    "    _, l, predictions = session.run(\n",
    "      [optimizer, loss, train_prediction], feed_dict=feed_dict)\n",
    "    loss_list.append(l)\n",
    "    if (step % 500 == 0):\n",
    "      print(\"Minibatch loss at step %d: %f\" % (step, l))\n",
    "      print(\"Minibatch accuracy: %.1f%%\" % accuracy(predictions, batch_labels))\n",
    "      print(\"Validation accuracy: %.1f%%\" % accuracy(\n",
    "        valid_prediction.eval(), valid_labels))\n",
    "  print(\"Test accuracy: %.1f%%\" % accuracy(test_prediction.eval(), test_labels))\n",
    "  "
   ]
  },
  {
   "cell_type": "code",
   "execution_count": 24,
   "metadata": {
    "collapsed": true
   },
   "outputs": [],
   "source": [
    "import matplotlib.pyplot as plt\n",
    "plt.plot(loss_list)\n",
    "plt.show()"
   ]
  },
  {
   "cell_type": "markdown",
   "metadata": {
    "colab_type": "text",
    "id": "7omWxtvLLxik"
   },
   "source": [
    "---\n",
    "Problem\n",
    "-------\n",
    "\n",
    "Turn the logistic regression example with SGD into a 1-hidden layer neural network with rectified linear units (nn.relu()) and 1024 hidden nodes. This model should improve your validation / test accuracy.\n",
    "\n",
    "---"
   ]
  },
  {
   "cell_type": "code",
   "execution_count": 26,
   "metadata": {
    "collapsed": false
   },
   "outputs": [
    {
     "name": "stdout",
     "output_type": "stream",
     "text": [
      "Run the following model!\n"
     ]
    }
   ],
   "source": [
    "batch_size = 128\n",
    "n_hidden = 1024\n",
    "\n",
    "graph = tf.Graph()\n",
    "with graph.as_default():\n",
    "\n",
    "  # Input data. For the training data, we use a placeholder that will be fed\n",
    "  # at run time with a training minibatch.\n",
    "  tf_train_dataset = tf.placeholder(tf.float32,\n",
    "                                    shape=(batch_size, image_size * image_size))\n",
    "  tf_train_labels = tf.placeholder(tf.float32, shape=(batch_size, num_labels))\n",
    "  tf_valid_dataset = tf.constant(valid_dataset)\n",
    "  tf_test_dataset = tf.constant(test_dataset)\n",
    "  \n",
    "  tf_hidden_dataset = tf.placeholder(tf.float32, shape = (batch_size, n_hidden))\n",
    "    \n",
    "  \n",
    "\n",
    "  # Variables.\n",
    "  weights_0 = tf.Variable(\n",
    "    tf.truncated_normal([image_size * image_size, n_hidden]))\n",
    "  biases_0 = tf.Variable(tf.zeros([n_hidden]))\n",
    "    \n",
    "  weights_1 = tf.Variable(tf.truncated_normal([n_hidden, num_labels]))\n",
    "  biases_1 = tf.Variable(tf.zeros([num_labels]))\n",
    "  \n",
    "  # Training computation.\n",
    "  hidden_level = tf.matmul(tf_train_dataset, weights_0) + biases_0\n",
    "  tf_hidden_dataset = tf.nn.relu(hidden_level)\n",
    "  logits = tf.matmul(tf_hidden_dataset, weights_1) + biases_1\n",
    "  loss = tf.reduce_mean(\n",
    "    tf.nn.softmax_cross_entropy_with_logits(logits, tf_train_labels))\n",
    "  \n",
    "    \n",
    "  # Optimizer.\n",
    "  optimizer = tf.train.GradientDescentOptimizer(0.5).minimize(loss)\n",
    "  \n",
    "\n",
    "  def multilayer_perceptron(x, w_0, b_0,w_1, b_1):\n",
    "        l1 = tf.nn.relu(tf.matmul(x, w_0) + b_0)\n",
    "        pred = tf.matmul(l1, w_1) + b_1\n",
    "        return pred\n",
    "  # Predictions for the training, validation, and test data.\n",
    "  train_prediction = tf.nn.softmax(logits)\n",
    "  valid_prediction = tf.nn.softmax(multilayer_perceptron(tf_valid_dataset, weights_0, biases_0, weights_1, biases_1))\n",
    "  test_prediction = tf.nn.softmax(multilayer_perceptron(tf_test_dataset, weights_0, biases_0, weights_1, biases_1))\n",
    "  #valid_prediction = tf.nn.softmax(\n",
    "  #  tf.matmul(tf.nn.relu(tf.matmul(tf_valid_dataset,weights_0) + biases_0), weights_1) + biases_1)\n",
    "  #test_prediction = tf.nn.softmax(\n",
    "  #  tf.matmul(tf.nn.relu(tf.matmul(tf_test_dataset,weights_0) + biases_0), weights_1) + biases_1))\n",
    "  print (r'Run the following model!')"
   ]
  },
  {
   "cell_type": "markdown",
   "metadata": {},
   "source": [
    "Let's run it:"
   ]
  },
  {
   "cell_type": "code",
   "execution_count": 38,
   "metadata": {
    "collapsed": false
   },
   "outputs": [
    {
     "name": "stdout",
     "output_type": "stream",
     "text": [
      "Initialized\n",
      "Minibatch loss at step 0: 307.685669\n",
      "Minibatch accuracy: 7.03%\n",
      "Validation accuracy: 35.78%\n",
      "Minibatch loss at step 200: 23.557085\n",
      "Minibatch accuracy: 79.69%\n",
      "Validation accuracy: 79.28%\n",
      "Minibatch loss at step 400: 4.324033\n",
      "Minibatch accuracy: 89.06%\n",
      "Validation accuracy: 81.52%\n",
      "Minibatch loss at step 600: 3.972778\n",
      "Minibatch accuracy: 92.19%\n",
      "Validation accuracy: 81.28%\n",
      "Minibatch loss at step 800: 11.069275\n",
      "Minibatch accuracy: 92.19%\n",
      "Validation accuracy: 79.68%\n",
      "Minibatch loss at step 1000: 2.973181\n",
      "Minibatch accuracy: 92.97%\n",
      "Validation accuracy: 81.66%\n",
      "Test accuracy: 88.66%\n"
     ]
    }
   ],
   "source": [
    "num_steps = 1001\n",
    "rows = train_labels.shape[0]\n",
    "loss_list = []\n",
    "with tf.Session(graph=graph) as session:\n",
    "  tf.initialize_all_variables().run()\n",
    "  print(\"Initialized\")\n",
    "  for step in range(num_steps):\n",
    "    # Pick an offset within the training data, which has been randomized.\n",
    "    # Note: we could use better randomization across epochs.\n",
    "    #offset = (step * batch_size) % (train_labels.shape[0] - batch_size)\n",
    "    permutation = np.random.permutation(train_labels.shape[0])\n",
    "    idx = permutation[:batch_size]\n",
    "    #Generate a minibatch\n",
    "    batch_data = train_dataset[idx, :]\n",
    "    batch_labels = train_labels[idx,:]\n",
    "    # Generate a minibatch.\n",
    "    #batch_data = train_dataset[offset:(offset + batch_size), :]\n",
    "    #batch_labels = train_labels[offset:(offset + batch_size), :]\n",
    "    # Prepare a dictionary telling the session where to feed the minibatch.\n",
    "    # The key of the dictionary is the placeholder node of the graph to be fed,\n",
    "    # and the value is the numpy array to feed to it.\n",
    "    feed_dict = {tf_train_dataset : batch_data, tf_train_labels : batch_labels}\n",
    "    _, l, predictions = session.run(\n",
    "      [optimizer, loss, train_prediction], feed_dict=feed_dict)\n",
    "    loss_list.append(l)\n",
    "    if (step % 200 == 0):\n",
    "      print(\"Minibatch loss at step %d: %f\" % (step, l))\n",
    "      print(\"Minibatch accuracy: %.2f%%\" % accuracy(predictions, batch_labels))\n",
    "      print(\"Validation accuracy: %.2f%%\" % accuracy(\n",
    "        valid_prediction.eval(), valid_labels))\n",
    "  print(\"Test accuracy: %.2f%%\" % accuracy(test_prediction.eval(), test_labels))"
   ]
  },
  {
   "cell_type": "code",
   "execution_count": 39,
   "metadata": {
    "collapsed": false
   },
   "outputs": [],
   "source": [
    "import matplotlib.pyplot as plt\n",
    "plt.plot(loss_list)\n",
    "plt.show()"
   ]
  },
  {
   "cell_type": "code",
   "execution_count": 16,
   "metadata": {
    "collapsed": false
   },
   "outputs": [
    {
     "name": "stdout",
     "output_type": "stream",
     "text": [
      "Run the following model!\n"
     ]
    }
   ],
   "source": [
    "batch_size = 128\n",
    "n_hidden = [32, 32]\n",
    "\n",
    "graph = tf.Graph()\n",
    "with graph.as_default():\n",
    "\n",
    "  # Input data. For the training data, we use a placeholder that will be fed\n",
    "  # at run time with a training minibatch.\n",
    "  tf_train_dataset = tf.placeholder(tf.float32,\n",
    "                                    shape=(batch_size, image_size * image_size))\n",
    "  tf_train_labels = tf.placeholder(tf.float32, shape=(batch_size, num_labels))\n",
    "  tf_valid_dataset = tf.constant(valid_dataset)\n",
    "  tf_test_dataset = tf.constant(test_dataset)\n",
    "  \n",
    "  #tf_hidden_dataset = tf.placeholder(tf.float32, shape = (batch_size, n_hidden))\n",
    "    \n",
    "  \n",
    "\n",
    "  # Variables.\n",
    "  #weights_0 = tf.Variable(\n",
    "  #  tf.truncated_normal([image_size * image_size, n_hidden]))\n",
    "  weights = [tf.truncated_normal([image_size * image_size, n_hidden[0]]),\n",
    "             tf.truncated_normal([n_hidden[0], n_hidden[1]]),\n",
    "             tf.truncated_normal([n_hidden[1], num_labels])]\n",
    "  #biases_0 = tf.Variable(tf.zeros([n_hidden]))\n",
    "  #biases_0 = tf.Variable(tf.truncated_normal([n_hidden]))\n",
    "  biases = [tf.Variable(tf.zeros([n_hidden[0]])),\n",
    "            tf.Variable(tf.zeros([n_hidden[1]])), \n",
    "            tf.Variable(tf.zeros([num_labels]))]  \n",
    "  #weights_1 = tf.Variable(tf.truncated_normal([n_hidden, num_labels]))\n",
    "  #biases_1 = tf.Variable(tf.zeros([num_labels]))\n",
    "  #biases_1 = tf.Variable(tf.truncated_normal([num_labels]))\n",
    "  \n",
    "  # Training computation.\n",
    "  def multilayer_perceptron2(x, w, b):\n",
    "        h1 = tf.nn.relu(tf.matmul(x, w[0]) + b[0])\n",
    "        h2 = tf.nn.relu(tf.matmul(h1, w[1]) + b[1])\n",
    "        pred = tf.matmul(h2, w[2]) + b[2]\n",
    "        return pred\n",
    "            \n",
    "  #hidden_level_1 = tf.matmul(tf_train_dataset, weights_0) + biases_0\n",
    "  #tf_hidden_dataset = tf.nn.softmax(hidden_level)\n",
    "  #logits = tf.matmul(tf_hidden_dataset, weights_1) + biases_1,\n",
    "  logits = multilayer_perceptron2(tf_train_dataset, weights, biases)\n",
    "  loss = tf.reduce_mean(\n",
    "    tf.nn.softmax_cross_entropy_with_logits(logits, tf_train_labels))\n",
    "  \n",
    "    \n",
    "  # Optimizer.\n",
    "  optimizer = tf.train.GradientDescentOptimizer(1e-20).minimize(loss)\n",
    "  \n",
    "  \n",
    "  \n",
    "  \n",
    "  \n",
    "  # Predictions for the training, validation, and test data.\n",
    "  train_prediction = tf.nn.softmax(logits)\n",
    "  valid_prediction = tf.nn.softmax(multilayer_perceptron2(tf_valid_dataset, weights, biases))\n",
    "  test_prediction = tf.nn.softmax(multilayer_perceptron2(tf_test_dataset, weights,biases))\n",
    "  #valid_prediction = tf.nn.softmax(\n",
    "  #  tf.matmul(tf.nn.relu(tf.matmul(tf_valid_dataset,weights_0) + biases_0), weights_1) + biases_1)\n",
    "  #test_prediction = tf.nn.softmax(\n",
    "  #  tf.matmul(tf.nn.relu(tf.matmul(tf_test_dataset,weights_0) + biases_0), weights_1) + biases_1))\n",
    "  print (r'Run the following model!')"
   ]
  },
  {
   "cell_type": "code",
   "execution_count": 17,
   "metadata": {
    "collapsed": false
   },
   "outputs": [
    {
     "name": "stdout",
     "output_type": "stream",
     "text": [
      "Initialized\n",
      "Minibatch loss at step 0: 250.802521\n",
      "Minibatch accuracy: 8.6%\n",
      "Validation accuracy: 10.8%\n",
      "Minibatch loss at step 100: 225.749756\n",
      "Minibatch accuracy: 10.9%\n",
      "Validation accuracy: 10.8%\n",
      "Minibatch loss at step 200: 288.128662\n",
      "Minibatch accuracy: 5.5%\n",
      "Validation accuracy: 5.6%\n",
      "Minibatch loss at step 300: 142.956726\n",
      "Minibatch accuracy: 16.4%\n",
      "Validation accuracy: 11.3%\n",
      "Minibatch loss at step 400: 151.995422\n",
      "Minibatch accuracy: 16.4%\n",
      "Validation accuracy: 10.4%\n",
      "Minibatch loss at step 500: 218.672211\n",
      "Minibatch accuracy: 11.7%\n",
      "Validation accuracy: 13.8%\n",
      "Minibatch loss at step 600: 168.934799\n",
      "Minibatch accuracy: 8.6%\n",
      "Validation accuracy: 10.3%\n",
      "Minibatch loss at step 700: 168.826523\n",
      "Minibatch accuracy: 17.2%\n",
      "Validation accuracy: 10.8%\n",
      "Minibatch loss at step 800: 208.683426\n",
      "Minibatch accuracy: 12.5%\n",
      "Validation accuracy: 11.0%\n",
      "Minibatch loss at step 900: 155.337082\n",
      "Minibatch accuracy: 16.4%\n",
      "Validation accuracy: 8.0%\n",
      "Minibatch loss at step 1000: 284.282074\n",
      "Minibatch accuracy: 9.4%\n",
      "Validation accuracy: 7.4%\n",
      "Test accuracy: 9.5%\n",
      "<class 'tensorflow.python.framework.ops.Tensor'>\n",
      "<class 'tensorflow.python.framework.ops.Tensor'>\n",
      "<type 'numpy.ndarray'>\n",
      "(5000, 10)\n",
      "(5000,)\n"
     ]
    }
   ],
   "source": [
    "num_steps =1001\n",
    "rows = train_labels.shape[0]\n",
    "loss_list = []\n",
    "\n",
    "with tf.Session(graph=graph) as session:\n",
    "  tf.initialize_all_variables().run()\n",
    "  print(\"Initialized\")\n",
    "  for step in range(num_steps):\n",
    "    # Pick an offset within the training data, which has been randomized.\n",
    "    # Note: we could use better randomization across epochs.\n",
    "    permutation = np.random.permutation(train_labels.shape[0])\n",
    "    idx = permutation[:batch_size]\n",
    "    #Generate a minibatch\n",
    "    batch_data = train_dataset[idx, :]\n",
    "    batch_labels = train_labels[idx,:]\n",
    "    # Prepare a dictionary telling the session where to feed the minibatch.\n",
    "    # The key of the dictionary is the placeholder node of the graph to be fed,\n",
    "    # and the value is the numpy array to feed to it.\n",
    "    feed_dict = {tf_train_dataset : batch_data, tf_train_labels : batch_labels}\n",
    "    _, l, predictions = session.run(\n",
    "      [optimizer, loss, train_prediction], feed_dict=feed_dict)\n",
    "    loss_list.append(l)\n",
    "    if (step % 100 == 0):\n",
    "      print(\"Minibatch loss at step %d: %f\" % (step, l))\n",
    "      print(\"Minibatch accuracy: %.1f%%\" % accuracy(predictions, batch_labels))\n",
    "      print(\"Validation accuracy: %.1f%%\" % accuracy(\n",
    "        valid_prediction.eval(), valid_labels))\n",
    "  print(\"Test accuracy: %.1f%%\" % accuracy(test_prediction.eval(), test_labels))\n",
    "  print (type(train_prediction))\n",
    "  print (type(test_prediction))\n",
    "  test_pred = test_prediction.eval()\n",
    "  print (type(test_pred))\n",
    "  print (test_pred.shape)\n",
    "  out = np.argmax(test_pred, 1)\n",
    "  print (out.shape)\n",
    "  #out = pd.DataFrame(out)\n",
    "  #out.to_csv('out.csv', header = ['Label'], index_label = range(1,test_pred.shape[0]+1))\n",
    "  #print ('done!')"
   ]
  },
  {
   "cell_type": "code",
   "execution_count": 19,
   "metadata": {
    "collapsed": false
   },
   "outputs": [],
   "source": [
    "import matplotlib.pyplot as plt\n",
    "plt.plot(loss_list)\n",
    "plt.show()"
   ]
  }
 ],
 "metadata": {
  "colab": {
   "default_view": {},
   "name": "2_fullyconnected.ipynb",
   "provenance": [],
   "version": "0.3.2",
   "views": {}
  },
  "kernelspec": {
   "display_name": "Python 2",
   "language": "python",
   "name": "python2"
  },
  "language_info": {
   "codemirror_mode": {
    "name": "ipython",
    "version": 2
   },
   "file_extension": ".py",
   "mimetype": "text/x-python",
   "name": "python",
   "nbconvert_exporter": "python",
   "pygments_lexer": "ipython2",
   "version": "2.7.6"
  }
 },
 "nbformat": 4,
 "nbformat_minor": 0
}
